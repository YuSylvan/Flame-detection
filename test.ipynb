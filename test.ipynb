{
 "cells": [
  {
   "cell_type": "code",
   "execution_count": 2,
   "id": "a0396c48",
   "metadata": {},
   "outputs": [],
   "source": [
    "import pandas as pd\n",
    "from scipy.io import wavfile\n",
    "from scipy.fft import fft\n",
    "import numpy as np\n",
    "import matplotlib.pyplot as plt\n",
    "from sklearn.metrics import mean_squared_error\n",
    "from tqdm import tqdm\n",
    "from sklearn.neighbors import KNeighborsClassifier\n",
    "import joblib"
   ]
  },
  {
   "cell_type": "code",
   "execution_count": 3,
   "id": "48c0cc35",
   "metadata": {},
   "outputs": [],
   "source": [
    "uvdata1 = pd.read_csv('./DATA/com6_merged_2.csv')\n",
    "Flamesta = np.array(list((map(lambda x: 1 if x>100 else 0,np.array(uvdata1['flame_level']))))) #1 if flame on, 0 if flame off\n",
    "Flamefan = np.array(uvdata1['air_rpm'])  #fan speed"
   ]
  },
  {
   "cell_type": "code",
   "execution_count": 4,
   "id": "366fe0c0",
   "metadata": {},
   "outputs": [],
   "source": [
    "fs, sig = wavfile.read('./DATA/com6_merged_2ch2.wav')\n",
    "Flamesta = np.array(list((map(lambda x: 1 if x>100 else 0,np.array(uvdata1['flame_level']))))) #1 if flame on, 0 if flame off\n",
    "Flamefan = np.array(uvdata1['air_rpm'])  #fan speed"
   ]
  },
  {
   "cell_type": "code",
   "execution_count": 5,
   "id": "556ed0c4",
   "metadata": {},
   "outputs": [],
   "source": [
    "'''val = 1\n",
    "diff = 0\n",
    "for i in tqdm(range(1000)):\n",
    "    com =  mean_squared_error(sig[i*960:][::960 ][:24000]/np.max(sig), Flamefan[:24000]/np.max(Flamefan))\n",
    "    if com < val:\n",
    "        diff = i\n",
    "        val = com\n",
    "diff'''\n",
    "diff = 611"
   ]
  },
  {
   "cell_type": "code",
   "execution_count": 6,
   "id": "0167788d",
   "metadata": {},
   "outputs": [],
   "source": [
    "#Dismatch time\n",
    "acsig = sig[diff*960:]\n",
    "Datalen = min(acsig[::960 ].shape[0], np.array(uvdata1['air_rpm']).shape[0])# amout of data\n",
    "Sig = np.array_split(acsig[:Datalen*960], Datalen) #List contains corresponding signals"
   ]
  },
  {
   "cell_type": "code",
   "execution_count": 7,
   "id": "e05a3342",
   "metadata": {},
   "outputs": [],
   "source": [
    "Xf = list(map(lambda x: np.fft.fft(x).real,Sig))"
   ]
  },
  {
   "cell_type": "markdown",
   "id": "4865b0d6",
   "metadata": {},
   "source": [
    "# input: Flamefan,Sig\n",
    "# output: Flamesta"
   ]
  },
  {
   "cell_type": "code",
   "execution_count": 14,
   "id": "76109f53",
   "metadata": {},
   "outputs": [],
   "source": [
    "X = []\n",
    "for i in range(Datalen):\n",
    "    X.append([acsig[::960 ][:Datalen][i],Flamefan[i]])\n"
   ]
  },
  {
   "cell_type": "code",
   "execution_count": 15,
   "id": "b209c39b",
   "metadata": {},
   "outputs": [
    {
     "data": {
      "text/plain": [
       "0.8710322219557048"
      ]
     },
     "execution_count": 15,
     "metadata": {},
     "output_type": "execute_result"
    }
   ],
   "source": [
    "neib = joblib.load('model/knn(2).pkl') \n",
    "neib.score(X,Flamesta[:Datalen]) "
   ]
  },
  {
   "cell_type": "code",
   "execution_count": 9,
   "id": "2622799e",
   "metadata": {},
   "outputs": [
    {
     "data": {
      "text/plain": [
       "0.7728072279523467"
      ]
     },
     "execution_count": 9,
     "metadata": {},
     "output_type": "execute_result"
    }
   ],
   "source": [
    "rfc = joblib.load('model/rfc(f).pkl') \n",
    "rfc.score(Xf,Flamesta[:Datalen]) "
   ]
  }
 ],
 "metadata": {
  "kernelspec": {
   "display_name": "Python 3.7.12 ('OD')",
   "language": "python",
   "name": "python3"
  },
  "language_info": {
   "codemirror_mode": {
    "name": "ipython",
    "version": 3
   },
   "file_extension": ".py",
   "mimetype": "text/x-python",
   "name": "python",
   "nbconvert_exporter": "python",
   "pygments_lexer": "ipython3",
   "version": "3.7.12"
  },
  "vscode": {
   "interpreter": {
    "hash": "77c85ecd8caa74be40ec3fd08380d355bf1a1680daa8986b518221147a52d1b1"
   }
  }
 },
 "nbformat": 4,
 "nbformat_minor": 5
}
